{
 "cells": [
  {
   "cell_type": "code",
   "execution_count": 1,
   "metadata": {},
   "outputs": [
    {
     "name": "stdout",
     "output_type": "stream",
     "text": [
      "Guess a number between 1 and 100: 60\n",
      "Sorry..Guess again too low\n",
      "Guess a number between 1 and 100: 73\n",
      "sorry..Guess again too high\n",
      "Guess a number between 1 and 100: 70\n",
      "sorry..Guess again too high\n",
      "Guess a number between 1 and 100: 69\n",
      "sorry..Guess again too high\n",
      "Guess a number between 1 and 100: 66\n",
      "Sorry..Guess again too low\n",
      "Guess a number between 1 and 100: 67\n",
      "You have Guess the number 67 Correctly\n"
     ]
    }
   ],
   "source": [
    "import random\n",
    "\n",
    "def guess(x):\n",
    "    # we used randint function to find out random number correctly\n",
    "    random_number = random.randint(1, x)\n",
    "    guess = 0\n",
    "    while guess != random_number:\n",
    "        guess = int(input(f'Guess a number between 1 and {x}: '))\n",
    "        if guess < random_number:\n",
    "            print('Sorry..Guess again too low')\n",
    "        elif guess > random_number:\n",
    "            print('sorry..Guess again too high')\n",
    "    \n",
    "    print(f'You have Guess the number {random_number} Correctly')\n",
    "\n",
    "def computer_guess(x):\n",
    "    low = 1\n",
    "    high = x\n",
    "    feedback = ''    #we take feedback as empty string\n",
    "    while feedback != 'c':                 #we used c for correct number\n",
    "        if low != high:\n",
    "            guess = random.randint(low,high)\n",
    "        else:\n",
    "            guess = low  #could be also high b/c low = high\n",
    "        feedback = input(f'Is {guess} too high (H), too low (L), or Correct Number')\n",
    "        if feedback == 'h':\n",
    "            high = guess -1\n",
    "        elif feedback == 'l':\n",
    "            low = guess + 1\n",
    "    \n",
    "    print(f'Yay! The computer guessed your Number, {guess}, Correctly!')\n",
    "        \n",
    "\n",
    "guess(100)"
   ]
  }
 ],
 "metadata": {
  "kernelspec": {
   "display_name": "Python 3",
   "language": "python",
   "name": "python3"
  },
  "language_info": {
   "codemirror_mode": {
    "name": "ipython",
    "version": 3
   },
   "file_extension": ".py",
   "mimetype": "text/x-python",
   "name": "python",
   "nbconvert_exporter": "python",
   "pygments_lexer": "ipython3",
   "version": "3.7.1"
  }
 },
 "nbformat": 4,
 "nbformat_minor": 2
}
