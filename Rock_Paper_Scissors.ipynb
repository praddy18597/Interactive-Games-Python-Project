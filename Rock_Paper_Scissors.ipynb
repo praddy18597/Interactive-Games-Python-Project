{
 "cells": [
  {
   "cell_type": "code",
   "execution_count": 5,
   "metadata": {},
   "outputs": [
    {
     "name": "stdout",
     "output_type": "stream",
     "text": [
      "What's your Choice? 'r' for rock , 'p' for papers, 's' for scissors\n",
      "r\n",
      "You Won!\n"
     ]
    }
   ],
   "source": [
    "import random\n",
    "\n",
    "def play():\n",
    "    user = input(\"What's your Choice? 'r' for rock , 'p' for papers, 's' for scissors\\n\")\n",
    "    computer = random.choice(['r','p','s'])\n",
    "\n",
    "    if user == computer:\n",
    "        return 'Its a tie'\n",
    "\n",
    "    # r>s, s>p, p>r\n",
    "    if is_win(user, computer):\n",
    "        return 'You Won!'\n",
    "    \n",
    "    return 'You Lost!'\n",
    "\n",
    "def is_win(player, opponent):\n",
    "    # return true if player wins\n",
    "    # r>s, s>p, p>r\n",
    "    if (player == 'r' and opponent == 's') or (player == 's' and opponent == 'p')\\\n",
    "        or (player == 'p' and opponent == 'r'):\n",
    "        return True\n",
    "\n",
    "print(play())"
   ]
  }
 ],
 "metadata": {
  "kernelspec": {
   "display_name": "Python 3",
   "language": "python",
   "name": "python3"
  },
  "language_info": {
   "codemirror_mode": {
    "name": "ipython",
    "version": 3
   },
   "file_extension": ".py",
   "mimetype": "text/x-python",
   "name": "python",
   "nbconvert_exporter": "python",
   "pygments_lexer": "ipython3",
   "version": "3.7.1"
  }
 },
 "nbformat": 4,
 "nbformat_minor": 2
}
