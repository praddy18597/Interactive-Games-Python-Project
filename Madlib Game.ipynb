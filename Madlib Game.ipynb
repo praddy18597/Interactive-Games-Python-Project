{
 "cells": [
  {
   "cell_type": "code",
   "execution_count": 1,
   "metadata": {},
   "outputs": [
    {
     "name": "stdout",
     "output_type": "stream",
     "text": [
      "Adjective: Hard\n",
      "Verb: Skydive\n",
      "Verb: happy\n",
      "Famous person: Pradeep Kamble\n",
      "Computer programming is so Hard! It makes me so excited all the time because I love to Skydive. Stay hydrated and happy like you are Pradeep Kamble!\n"
     ]
    }
   ],
   "source": [
    "# # a few ways to do this\n",
    "# print(\"subscribe to \" + youtuber)\n",
    "# print(\"subscribe to {}\".format(youtuber))\n",
    "# print(f\"subscribe to {youtuber}\")\n",
    "\n",
    "adj = input(\"Adjective: \")\n",
    "verb1 = input(\"Verb: \")\n",
    "verb2 = input(\"Verb: \")\n",
    "famous_person = input(\"Famous person: \")\n",
    "\n",
    "madlib = f\"Computer programming is so {adj}! It makes me so excited all the time because \\\n",
    "I love to {verb1}. Stay hydrated and {verb2} like you are {famous_person}!\"\n",
    "\n",
    "print(madlib)"
   ]
  }
 ],
 "metadata": {
  "kernelspec": {
   "display_name": "Python 3",
   "language": "python",
   "name": "python3"
  },
  "language_info": {
   "codemirror_mode": {
    "name": "ipython",
    "version": 3
   },
   "file_extension": ".py",
   "mimetype": "text/x-python",
   "name": "python",
   "nbconvert_exporter": "python",
   "pygments_lexer": "ipython3",
   "version": "3.7.1"
  }
 },
 "nbformat": 4,
 "nbformat_minor": 2
}
